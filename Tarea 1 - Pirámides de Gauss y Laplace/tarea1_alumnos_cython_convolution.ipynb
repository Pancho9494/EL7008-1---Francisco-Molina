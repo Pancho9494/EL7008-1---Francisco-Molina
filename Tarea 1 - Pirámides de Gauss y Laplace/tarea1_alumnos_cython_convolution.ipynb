{
 "cells": [
  {
   "cell_type": "code",
   "execution_count": 1,
   "metadata": {
    "id": "xzFcQovNkEKS"
   },
   "outputs": [],
   "source": [
    "# El objetivo de esta tarea es:\n",
    "# 1) Implementar convolucion (usando cython)\n",
    "# 2) Implementar piramides de Gauss y Laplace\n",
    "# 3) Implementar reconstruccion de una imagen a partir de las piramides\n",
    "# 4) Graficar las piramides\n",
    "#\n",
    "# Nota: los arreglos (matrices) creados deben ser de tipo np.float32"
   ]
  },
  {
   "cell_type": "code",
   "execution_count": null,
   "metadata": {
    "id": "QcXmdSkZrrA_"
   },
   "outputs": [],
   "source": [
    "# Si se usa colaboratory, esta linea permite subir imagenes a la carpeta del notebook\n",
    "from google.colab import files\n",
    "uploaded = files.upload()"
   ]
  },
  {
   "cell_type": "code",
   "execution_count": null,
   "metadata": {
    "id": "e0HWZOyG1k5W"
   },
   "outputs": [],
   "source": [
    "# Mostrar archivos en la carpeta del notebook\n",
    "!ls"
   ]
  },
  {
   "cell_type": "code",
   "execution_count": null,
   "metadata": {
    "id": "pD1hFdhpyCEu"
   },
   "outputs": [],
   "source": [
    "# Para medir tiempo de ejecucion\n",
    "!pip install ipython-autotime"
   ]
  },
  {
   "cell_type": "code",
   "execution_count": null,
   "metadata": {
    "id": "01WGwfaIl_OK"
   },
   "outputs": [],
   "source": [
    "# Extensiones\n",
    "%load_ext Cython\n",
    "%load_ext autotime"
   ]
  },
  {
   "cell_type": "code",
   "execution_count": null,
   "metadata": {
    "id": "ULPP-ZYnlXoE"
   },
   "outputs": [],
   "source": [
    "# Paquetes a ser usados\n",
    "import numpy as np\n",
    "import cv2\n",
    "import cython\n",
    "import numpy as np\n",
    "import math\n",
    "# Este paquete solo se debe usar si se usa colaboratory\n",
    "from google.colab.patches import cv2_imshow"
   ]
  },
  {
   "cell_type": "code",
   "execution_count": null,
   "metadata": {
    "id": "pxVU-GW8lr-n"
   },
   "outputs": [],
   "source": [
    "%%cython\n",
    "import cython\n",
    "import numpy as np\n",
    "cimport numpy as np\n",
    "\n",
    "# La convolucion debe ser implementada usando cython (solo esta funcion en cython)\n",
    "#@cython.boundscheck(False)\n",
    "cpdef np.ndarray[np.float32_t, ndim=2] convolution_cython(np.ndarray[np.float32_t, ndim=2] input, np.ndarray[np.float32_t, ndim=2] mask):\n",
    "  cdef int y, x, rows, cols\n",
    "  cdef float sum\n",
    "  cdef np.ndarray[np.float32_t, ndim=2] output=np.zeros([input.shape[0], input.shape[1]], dtype = np.float32)\n",
    "\n",
    "  # tamano de la imagen\n",
    "  rows = input.shape[0]\n",
    "  cols = input.shape[1]\n",
    "\n",
    "  sum = 0\n",
    "\n",
    "  # Por hacer: implementar convolucion entre \"input\" y \"mask\"\n",
    "  for y in range(rows):\n",
    "    for x in range(cols):\n",
    "      sum = sum + input[y,x]\n",
    "      output[y,x] = input[y,x]\n",
    "  return output\n"
   ]
  },
  {
   "cell_type": "code",
   "execution_count": null,
   "metadata": {
    "id": "vqjWMFbbNUjR"
   },
   "outputs": [],
   "source": [
    "def compute_gauss_mask_2d(sigma, width):\n",
    "  gmask = np.zeros((width, width), np.float32)\n",
    "  # Por hacer: implementar calculo de mascara gaussiana 2d pixel a pixel\n",
    "  # Se debe normalizar tras calcularla para que las sumas de los pixeles sea igual a 1\n",
    "  return gmask"
   ]
  },
  {
   "cell_type": "code",
   "execution_count": null,
   "metadata": {
    "id": "iTxlfKVpNVG4"
   },
   "outputs": [],
   "source": [
    "def apply_blur(input, sigma, width):\n",
    "  # Por hacer:\n",
    "  # 1) Calcular mascara gaussiana 2d con parametros sigma y width\n",
    "  # 2) Calcular convolucion entre la imagen de entrada \"input\" y la mascara 2d\n",
    "  output = np.copy(input) # Esta linea se debe eliminar\n",
    "  return output"
   ]
  },
  {
   "cell_type": "code",
   "execution_count": null,
   "metadata": {
    "id": "jTGc0xNntpVY"
   },
   "outputs": [],
   "source": [
    "def do_subsample(img):\n",
    "  # por hacer: implementar submuestreo pixel a pixel\n",
    "  output = np.copy(img) # Esta linea se debe eliminar\n",
    "  return output"
   ]
  },
  {
   "cell_type": "code",
   "execution_count": null,
   "metadata": {
    "id": "J9UAYYUYujRu"
   },
   "outputs": [],
   "source": [
    "def calc_gauss_pyramid(input, levels):  \n",
    "  gausspyr = []\n",
    "  current = np.copy(input)\n",
    "  gausspyr.append(current)\n",
    "  for i in range(1,levels):\n",
    "    # Por hacer:\n",
    "    # 1) Aplicar apply_blur() a la imagen gausspyr[i-1], con sigma 2.0 y ancho 7\n",
    "    # 2) Submuestrear la imagen resultante usando do_subsample y guardando el resultado en current\n",
    "    gausspyr.append(current)\n",
    "  return gausspyr"
   ]
  },
  {
   "cell_type": "code",
   "execution_count": null,
   "metadata": {
    "id": "PGLO8TZOvbu1"
   },
   "outputs": [],
   "source": [
    "def show_gauss_pyramid(pyramid):\n",
    "  # Por hacer: mostrar las imagenes de la piramide de gauss\n",
    "  # Se recomienda usar cv2_imshow( ) para mostrar las imagenes\n",
    "  pass"
   ]
  },
  {
   "cell_type": "code",
   "execution_count": null,
   "metadata": {
    "id": "z9nY1KZAvcMG"
   },
   "outputs": [],
   "source": [
    "def subtract(input1, input2):\n",
    "  # Por hacer: calcular la resta entre input1 e input2, pixel a pixel\n",
    "  output = np.copy(input1) # Esta linea se debe eliminar\n",
    "  return output"
   ]
  },
  {
   "cell_type": "code",
   "execution_count": null,
   "metadata": {
    "id": "0pusvsgHwlou"
   },
   "outputs": [],
   "source": [
    "def add(input1, input2):\n",
    "  # Por hacer: calcular la resta entre input1 e input2, pixel a pixel\n",
    "  output = np.copy(input1) # Esta linea se debe eliminar\n",
    "  return output"
   ]
  },
  {
   "cell_type": "code",
   "execution_count": null,
   "metadata": {
    "id": "lfcgmYE5wq9d"
   },
   "outputs": [],
   "source": [
    "def abs_then_scale(img, factor):\n",
    "  # Por hacer: aplicar valor absoluto a los pixeles de la imagen pixel a pixel y luego escalar los pixeles usando el factor indicado\n",
    "  output = np.copy(img) # Esta linea se debe eliminar\n",
    "  return output"
   ]
  },
  {
   "cell_type": "code",
   "execution_count": null,
   "metadata": {
    "id": "SwQvODNNxFJ3"
   },
   "outputs": [],
   "source": [
    "def calc_laplace_pyramid(input, levels):\n",
    "  gausspyr = []\n",
    "  laplacepyr = []\n",
    "  current = np.copy(input)\n",
    "  gausspyr.append(current)\n",
    "  for i in range(1, levels):\n",
    "    # Por hacer:\n",
    "    # 1) Aplicar apply_blur( ) a la imagen gausspyr[i-1], con sigma 2.0 y ancho 7\n",
    "    # 2) Guardar en laplacepyr el resultado de restar gausspyr[i-1] y la imagen calculada en (1)\n",
    "    laplacepyr.append(np.zeros(current.shape, np.float32))  # Esta linea se debe reemplazar por lo indicado en (2)\n",
    "    # 3) Submuestrear la imagen calculada en (1), guardar el resultado en current\n",
    "    gausspyr.append(current)\n",
    "  laplacepyr.append(current)  # Se agrega el ultimo piso de la piramide de Laplace\n",
    "  return laplacepyr"
   ]
  },
  {
   "cell_type": "code",
   "execution_count": null,
   "metadata": {
    "id": "uRGD7xMUyDiX"
   },
   "outputs": [],
   "source": [
    "def show_laplace_pyramid(pyramid):\n",
    "  # Por hacer: mostrar las imagenes de la piramide de laplace:\n",
    "  #  Las imagenes deben ser escaladas antes de mostrarse usando abs_then_scale( )\n",
    "  #  Sin embargo, la ultima imagen del ultimo piso se muestra tal cual\n",
    "  # Se recomienda usar cv2_imshow( ) para mostrar las imagenes\n",
    "  pass"
   ]
  },
  {
   "cell_type": "code",
   "execution_count": null,
   "metadata": {
    "id": "fz8_g3P-yajA"
   },
   "outputs": [],
   "source": [
    "def do_upsample(img):\n",
    "  # Por hacer: implementar duplicacion del tamaño de imagen pixel a pixel\n",
    "  # Un pixel de la imagen de salida debe ser el promedio de los 4 pixeles mas cercanos de la imagen de entrada\n",
    "  # Se debe tener cuidado de que los indices no salgan fuera del tamano de la imagen\n",
    "  output = np.copy(img) #Esto se debe eliminar\n",
    "  return output"
   ]
  },
  {
   "cell_type": "code",
   "execution_count": null,
   "metadata": {
    "id": "szWcyqzpyaxG"
   },
   "outputs": [],
   "source": [
    "def do_reconstruct(laplacepyr):\n",
    "  output = np.copy( laplacepyr[len(laplacepyr)-1] )\n",
    "  for i in range(1, len(laplacepyr)):\n",
    "    level = int(len(laplacepyr)) - i - 1\n",
    "    # Por hacer: repetir estos dos pasos:\n",
    "    # (1) Duplicar tamano output usando do_upsample( )\n",
    "    # (2) Sumar resultado de (1) y laplacepyr[level] usando add( ), almacenar en output\n",
    "  return output"
   ]
  },
  {
   "cell_type": "code",
   "execution_count": null,
   "metadata": {
    "id": "1PW3w0jQJZI7"
   },
   "outputs": [],
   "source": [
    "ls"
   ]
  },
  {
   "cell_type": "code",
   "execution_count": null,
   "metadata": {
    "id": "mkRcGefA0GA_"
   },
   "outputs": [],
   "source": [
    "originalRGB = cv2.imread('cuadro.jpg') #Leer imagen\n",
    "\n",
    "if originalRGB is None:\n",
    "  assert False, 'Imagen no encontrada'\n",
    "\n",
    "if len(originalRGB.shape) == 3:\n",
    "  original = cv2.cvtColor(originalRGB, cv2.COLOR_BGR2GRAY)\n",
    "else:\n",
    "  original = originalRGB\n",
    "\n",
    "input = np.float32( original )\n",
    "\n",
    "print('Piramide de gauss:')\n",
    "gausspyramid = calc_gauss_pyramid(input, 5)\n",
    "show_gauss_pyramid(gausspyramid)\n",
    "\n",
    "print('Piramide de laplace:')\n",
    "laplacepyramid = calc_laplace_pyramid(input, 5)\n",
    "show_laplace_pyramid(laplacepyramid)\n",
    "\n",
    "print('reconstruida:')\n",
    "reconstr = do_reconstruct(laplacepyramid)\n",
    "cv2_imshow(reconstr)"
   ]
  }
 ],
 "metadata": {
  "colab": {
   "collapsed_sections": [],
   "name": "tarea1_alumnos_cython_convolution.ipynb",
   "provenance": []
  },
  "kernelspec": {
   "display_name": "Python 3 (ipykernel)",
   "language": "python",
   "name": "python3"
  },
  "language_info": {
   "codemirror_mode": {
    "name": "ipython",
    "version": 3
   },
   "file_extension": ".py",
   "mimetype": "text/x-python",
   "name": "python",
   "nbconvert_exporter": "python",
   "pygments_lexer": "ipython3",
   "version": "3.9.6"
  }
 },
 "nbformat": 4,
 "nbformat_minor": 1
}
